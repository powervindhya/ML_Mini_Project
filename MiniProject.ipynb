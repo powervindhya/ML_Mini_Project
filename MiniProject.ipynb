{
  "cells": [
    {
      "cell_type": "code",
      "execution_count": 1,
      "metadata": {
        "id": "7iBZs1021XPe"
      },
      "outputs": [],
      "source": [
        "import numpy as np\n",
        "import pandas as pd\n",
        "import matplotlib.pyplot as plt\n",
        "pd.set_option('display.max_columns',None)\n",
        "from sklearn.decomposition import PCA\n",
        "from sklearn.model_selection import train_test_split\n",
        "from sklearn.metrics import accuracy_score, confusion_matrix, classification_report\n",
        "import sklearn.metrics\n",
        "import math\n",
        "from sklearn.preprocessing import StandardScaler\n",
        "from sklearn.preprocessing import LabelEncoder, OneHotEncoder\n",
        "import xgboost as xgb\n",
        "import warnings\n",
        "warnings.filterwarnings(\"ignore\")"
      ]
    },
    {
      "cell_type": "code",
      "execution_count": 2,
      "metadata": {
        "id": "Tzjt_Pon6mkp"
      },
      "outputs": [],
      "source": [
        "data2018=pd.read_csv(\"ground_water_quality_2018_post.csv\")\n",
        "data2019=pd.read_csv(\"ground_water_quality_2019_post.csv\")\n",
        "data2020=pd.read_csv(\"ground_water_quality_2020_post.csv\")"
      ]
    },
    {
      "cell_type": "code",
      "execution_count": 3,
      "metadata": {
        "colab": {
          "base_uri": "https://localhost:8080/"
        },
        "id": "A0_L_lv566qF",
        "outputId": "3c24e499-8867-4616-b49a-30d4e91e53c4"
      },
      "outputs": [
        {
          "data": {
            "text/plain": [
              "(374, 26)"
            ]
          },
          "execution_count": 3,
          "metadata": {},
          "output_type": "execute_result"
        }
      ],
      "source": [
        "data2018.shape"
      ]
    },
    {
      "cell_type": "code",
      "execution_count": 4,
      "metadata": {
        "colab": {
          "base_uri": "https://localhost:8080/"
        },
        "id": "WIPyXl0I7L6m",
        "outputId": "61a55259-a760-4ef7-97f6-126707c872eb"
      },
      "outputs": [
        {
          "data": {
            "text/plain": [
              "sno                 0\n",
              "district            0\n",
              "mandal              0\n",
              "village             0\n",
              "lat_gis             0\n",
              "long_gis            0\n",
              "gwl                 3\n",
              "season              0\n",
              "pH                  0\n",
              "E.C                 0\n",
              "TDS                 0\n",
              "CO3                 0\n",
              "HCO3                0\n",
              "Cl                  0\n",
              "F                   0\n",
              "NO3                 0\n",
              "SO4                 0\n",
              "Na                  0\n",
              "K                   0\n",
              "Ca                  0\n",
              "Mg                  0\n",
              "T.H                 0\n",
              "SAR                 0\n",
              "Classification      0\n",
              "RSC  meq  / L       0\n",
              "Classification.1    0\n",
              "dtype: int64"
            ]
          },
          "execution_count": 4,
          "metadata": {},
          "output_type": "execute_result"
        }
      ],
      "source": [
        "data2018.isnull().sum()"
      ]
    },
    {
      "cell_type": "code",
      "execution_count": 5,
      "metadata": {
        "colab": {
          "base_uri": "https://localhost:8080/"
        },
        "id": "edjDowQs7VX7",
        "outputId": "c509a7ba-ef6f-42e3-b181-74fde1b09205"
      },
      "outputs": [
        {
          "data": {
            "text/plain": [
              "sno                   0\n",
              "district              0\n",
              "mandal                0\n",
              "village               0\n",
              "lat_gis               0\n",
              "long_gis              0\n",
              "gwl                   5\n",
              "season                0\n",
              "pH                    0\n",
              "EC                    0\n",
              "TDS                   0\n",
              "CO_-2               160\n",
              "HCO_ -                0\n",
              "Cl -                  0\n",
              "F -                   0\n",
              "NO3-                  0\n",
              "SO4-2                 0\n",
              "Na+                   0\n",
              "K+                    0\n",
              "Ca+2                  0\n",
              "Mg+2                  0\n",
              "T.H                   0\n",
              "SAR                   0\n",
              "Classification        0\n",
              "RSC  meq  / L         0\n",
              "Classification.1      0\n",
              "dtype: int64"
            ]
          },
          "execution_count": 5,
          "metadata": {},
          "output_type": "execute_result"
        }
      ],
      "source": [
        "data2019.isnull().sum()"
      ]
    },
    {
      "cell_type": "code",
      "execution_count": 6,
      "metadata": {
        "colab": {
          "base_uri": "https://localhost:8080/"
        },
        "id": "5DubV6Kq7ee4",
        "outputId": "4219cdbb-7289-4062-e525-1badb1f21e0f"
      },
      "outputs": [
        {
          "data": {
            "text/plain": [
              "sno                   0\n",
              "district              0\n",
              "mandal                0\n",
              "village               0\n",
              "lat_gis               0\n",
              "long_gis              0\n",
              "gwl                   3\n",
              "season                0\n",
              "Unnamed: 8          368\n",
              "pH                    0\n",
              "E.C                   0\n",
              "TDS                   0\n",
              "CO3                   0\n",
              "HCO3                  0\n",
              "Cl                    0\n",
              "F                     0\n",
              "NO3                   0\n",
              "SO4                   0\n",
              "Na                    0\n",
              "K                     0\n",
              "Ca                    0\n",
              "Mg                    0\n",
              "T.H                   0\n",
              "SAR                   0\n",
              "Classification        0\n",
              "RSC  meq  / L         0\n",
              "Classification.1      0\n",
              "dtype: int64"
            ]
          },
          "execution_count": 6,
          "metadata": {},
          "output_type": "execute_result"
        }
      ],
      "source": [
        "data2020.isnull().sum()"
      ]
    },
    {
      "cell_type": "code",
      "execution_count": 7,
      "metadata": {
        "id": "-CHHbuvn7xoP"
      },
      "outputs": [],
      "source": [
        "data2020.drop(\"Unnamed: 8\",axis=1, inplace=True)"
      ]
    },
    {
      "cell_type": "code",
      "execution_count": 8,
      "metadata": {
        "id": "OLcKIiA38GV8"
      },
      "outputs": [],
      "source": [
        "column_name_mappings={'CO_-2 ':'CO3', 'HCO_ - ':'HCO3', 'Cl -':'Cl', 'F -':'F','NO3- ':'NO3 ', 'SO4-2':'SO4', 'Na+':'Na', 'K+':'K', 'Ca+2':'Ca', 'Mg+2':'Mg','EC':'E.C'\n",
        "                     }\n",
        "data2019.rename(columns=column_name_mappings,inplace=True)"
      ]
    },
    {
      "cell_type": "code",
      "execution_count": 9,
      "metadata": {
        "colab": {
          "base_uri": "https://localhost:8080/"
        },
        "id": "By2rKwVU8KRs",
        "outputId": "ab2cd717-119e-4d23-8cb5-ad928cb23351"
      },
      "outputs": [
        {
          "name": "stdout",
          "output_type": "stream",
          "text": [
            "<class 'pandas.core.frame.DataFrame'>\n",
            "RangeIndex: 364 entries, 0 to 363\n",
            "Data columns (total 26 columns):\n",
            " #   Column            Non-Null Count  Dtype  \n",
            "---  ------            --------------  -----  \n",
            " 0   sno               364 non-null    int64  \n",
            " 1   district          364 non-null    object \n",
            " 2   mandal            364 non-null    object \n",
            " 3   village           364 non-null    object \n",
            " 4   lat_gis           364 non-null    float64\n",
            " 5   long_gis          364 non-null    float64\n",
            " 6   gwl               359 non-null    float64\n",
            " 7   season            364 non-null    object \n",
            " 8   pH                364 non-null    float64\n",
            " 9   E.C               364 non-null    int64  \n",
            " 10  TDS               364 non-null    float64\n",
            " 11  CO3               204 non-null    float64\n",
            " 12  HCO3              364 non-null    int64  \n",
            " 13  Cl                364 non-null    int64  \n",
            " 14  F                 364 non-null    float64\n",
            " 15  NO3               364 non-null    float64\n",
            " 16  SO4               364 non-null    float64\n",
            " 17  Na                364 non-null    float64\n",
            " 18  K                 364 non-null    float64\n",
            " 19  Ca                364 non-null    float64\n",
            " 20  Mg                364 non-null    float64\n",
            " 21  T.H               364 non-null    float64\n",
            " 22  SAR               364 non-null    float64\n",
            " 23  Classification    364 non-null    object \n",
            " 24  RSC  meq  / L     364 non-null    float64\n",
            " 25  Classification.1  364 non-null    object \n",
            "dtypes: float64(16), int64(4), object(6)\n",
            "memory usage: 74.1+ KB\n"
          ]
        }
      ],
      "source": [
        "data2019.info()"
      ]
    },
    {
      "cell_type": "code",
      "execution_count": 10,
      "metadata": {
        "id": "LU7WrFnF8pAT"
      },
      "outputs": [],
      "source": [
        "median_groundwater_by_district_2018 = data2018.groupby('district')['gwl'].median()\n",
        "median_groundwater_by_district_2019 = data2019.groupby('district')['gwl'].median()\n",
        "median_groundwater_by_district_2020 = data2020.groupby('district')['gwl'].median()"
      ]
    },
    {
      "cell_type": "code",
      "execution_count": 11,
      "metadata": {
        "id": "lV4uLrvi9GA9"
      },
      "outputs": [],
      "source": [
        "def impute_missing_with_median(row):\n",
        "    if pd.isnull(row['gwl']):\n",
        "        return median_groundwater_by_district_2019[row['district']]\n",
        "    else:\n",
        "        return row['gwl']\n",
        "\n",
        "\n",
        "data2018['gwl'] = data2018.apply(impute_missing_with_median, axis=1)\n",
        "data2019['gwl'] = data2019.apply(impute_missing_with_median, axis=1)\n",
        "data2020['gwl'] = data2020.apply(impute_missing_with_median, axis=1)"
      ]
    },
    {
      "cell_type": "code",
      "execution_count": 12,
      "metadata": {
        "colab": {
          "base_uri": "https://localhost:8080/"
        },
        "id": "yZTCZ3Njc62h",
        "outputId": "a468a412-29f9-4f96-e7c2-46e5d917b49a"
      },
      "outputs": [
        {
          "data": {
            "text/plain": [
              "NIZAMABAD            23\n",
              "NALGONDA             22\n",
              "KAMAREDDY            20\n",
              "VIKARABAD            16\n",
              "KHAMMAM              15\n",
              "BHADRADRI            10\n",
              "MAHABUBNAGAR          8\n",
              "SANGAREDDY            7\n",
              "JOGULAMBA(GADWAL)     7\n",
              "NARAYANPET            7\n",
              "HYDERABAD             7\n",
              "SIDDIPET              7\n",
              "MEDCHAL               6\n",
              "SURYAPET              5\n",
              "Name: district, dtype: int64"
            ]
          },
          "execution_count": 12,
          "metadata": {},
          "output_type": "execute_result"
        }
      ],
      "source": [
        "missing2019=data2019[data2019['CO3'].isnull()]\n",
        "missing2019['district'].value_counts()"
      ]
    },
    {
      "cell_type": "code",
      "execution_count": 13,
      "metadata": {
        "id": "6eXGF_OJdHmy"
      },
      "outputs": [],
      "source": [
        "df_missing=data2019[['pH','CO3']]\n",
        "df_subset = df_missing.dropna(subset=['CO3', 'pH'])"
      ]
    },
    {
      "cell_type": "code",
      "execution_count": 14,
      "metadata": {
        "id": "ddKZK7MndREh"
      },
      "outputs": [],
      "source": [
        "#taking X and y for prediction\n",
        "X_train = df_subset['pH'].values.reshape(-1, 1)\n",
        "y_train = df_subset['CO3'].values"
      ]
    },
    {
      "cell_type": "code",
      "execution_count": 15,
      "metadata": {
        "colab": {
          "base_uri": "https://localhost:8080/",
          "height": 74
        },
        "id": "U6H-w7yJdYwz",
        "outputId": "0233e726-c4cc-47af-a642-232aec6441bf"
      },
      "outputs": [
        {
          "data": {
            "text/plain": [
              "LinearRegression()"
            ]
          },
          "execution_count": 15,
          "metadata": {},
          "output_type": "execute_result"
        }
      ],
      "source": [
        "from sklearn.linear_model import LinearRegression\n",
        "\n",
        "# Create and train the linear regression model\n",
        "model = LinearRegression()\n",
        "model.fit(X_train, y_train)"
      ]
    },
    {
      "cell_type": "code",
      "execution_count": 16,
      "metadata": {
        "id": "dx9r5Pp0dcmB"
      },
      "outputs": [],
      "source": [
        "X_missing_values = df_missing.loc[df_missing['CO3'].isnull(), 'pH'].values.reshape(-1, 1)\n",
        "\n",
        "# Predict the missing values\n",
        "predicted_missing_values = model.predict(X_missing_values)\n",
        "\n",
        "# Update the missing values in the original dataset with the predicted values\n",
        "df_missing.loc[df_missing['CO3'].isnull(), 'CO3'] = predicted_missing_values"
      ]
    },
    {
      "cell_type": "code",
      "execution_count": 17,
      "metadata": {
        "id": "_VaFKZUddjWr"
      },
      "outputs": [],
      "source": [
        "data2019['CO3']=df_missing['CO3']"
      ]
    },
    {
      "cell_type": "code",
      "execution_count": 18,
      "metadata": {
        "colab": {
          "base_uri": "https://localhost:8080/"
        },
        "id": "OeAaITUG9iiN",
        "outputId": "3ffcb2db-0b5c-46c4-9063-5e2b5a5a35bd"
      },
      "outputs": [
        {
          "data": {
            "text/plain": [
              "Series([], Name: district, dtype: int64)"
            ]
          },
          "execution_count": 18,
          "metadata": {},
          "output_type": "execute_result"
        }
      ],
      "source": [
        "missing2019=data2019[data2019['CO3'].isnull()]\n",
        "missing2019['district'].value_counts()"
      ]
    },
    {
      "cell_type": "code",
      "execution_count": 19,
      "metadata": {
        "id": "gbVKm5PhCC1C"
      },
      "outputs": [],
      "source": [
        "water_data=pd.concat([data2018,data2019,data2020])\n",
        "water_data.to_csv('cleaned_ground_water_data.csv', index=False)"
      ]
    },
    {
      "cell_type": "code",
      "execution_count": 20,
      "metadata": {
        "id": "ESGedDGODkLT"
      },
      "outputs": [],
      "source": [
        "water_data.loc[261,'pH']=8.05\n",
        "water_data['pH']=water_data.loc[:,'pH'].astype(float)"
      ]
    },
    {
      "cell_type": "code",
      "execution_count": 21,
      "metadata": {
        "id": "8ZKOLUiLYorl"
      },
      "outputs": [],
      "source": [
        "Columns_to_drop=['sno', 'district', 'mandal', 'village', 'lat_gis', 'long_gis','season','RSC  meq  / L','Classification.1']\n",
        "Water_data=water_data.drop(columns=Columns_to_drop,inplace=True)"
      ]
    },
    {
      "cell_type": "code",
      "execution_count": 22,
      "metadata": {
        "colab": {
          "base_uri": "https://localhost:8080/",
          "height": 226
        },
        "id": "U4thfFiEaTvR",
        "outputId": "60cd55dd-71d8-402d-cd72-1af184a41c30"
      },
      "outputs": [
        {
          "data": {
            "text/html": [
              "<div>\n",
              "<style scoped>\n",
              "    .dataframe tbody tr th:only-of-type {\n",
              "        vertical-align: middle;\n",
              "    }\n",
              "\n",
              "    .dataframe tbody tr th {\n",
              "        vertical-align: top;\n",
              "    }\n",
              "\n",
              "    .dataframe thead th {\n",
              "        text-align: right;\n",
              "    }\n",
              "</style>\n",
              "<table border=\"1\" class=\"dataframe\">\n",
              "  <thead>\n",
              "    <tr style=\"text-align: right;\">\n",
              "      <th></th>\n",
              "      <th>gwl</th>\n",
              "      <th>pH</th>\n",
              "      <th>E.C</th>\n",
              "      <th>TDS</th>\n",
              "      <th>CO3</th>\n",
              "      <th>HCO3</th>\n",
              "      <th>Cl</th>\n",
              "      <th>F</th>\n",
              "      <th>NO3</th>\n",
              "      <th>SO4</th>\n",
              "      <th>Na</th>\n",
              "      <th>K</th>\n",
              "      <th>Ca</th>\n",
              "      <th>Mg</th>\n",
              "      <th>T.H</th>\n",
              "      <th>SAR</th>\n",
              "      <th>Classification</th>\n",
              "    </tr>\n",
              "  </thead>\n",
              "  <tbody>\n",
              "    <tr>\n",
              "      <th>0</th>\n",
              "      <td>5.09</td>\n",
              "      <td>8.28</td>\n",
              "      <td>745</td>\n",
              "      <td>476.80</td>\n",
              "      <td>0.0</td>\n",
              "      <td>220.0</td>\n",
              "      <td>60</td>\n",
              "      <td>0.44</td>\n",
              "      <td>42.276818</td>\n",
              "      <td>46.0</td>\n",
              "      <td>49.0</td>\n",
              "      <td>4.0</td>\n",
              "      <td>48.0</td>\n",
              "      <td>38.896</td>\n",
              "      <td>279.934211</td>\n",
              "      <td>1.273328</td>\n",
              "      <td>C2S1</td>\n",
              "    </tr>\n",
              "    <tr>\n",
              "      <th>1</th>\n",
              "      <td>5.10</td>\n",
              "      <td>8.29</td>\n",
              "      <td>921</td>\n",
              "      <td>589.44</td>\n",
              "      <td>0.0</td>\n",
              "      <td>230.0</td>\n",
              "      <td>80</td>\n",
              "      <td>0.56</td>\n",
              "      <td>100.659091</td>\n",
              "      <td>68.0</td>\n",
              "      <td>42.0</td>\n",
              "      <td>5.0</td>\n",
              "      <td>56.0</td>\n",
              "      <td>63.206</td>\n",
              "      <td>399.893092</td>\n",
              "      <td>0.913166</td>\n",
              "      <td>C3S1</td>\n",
              "    </tr>\n",
              "    <tr>\n",
              "      <th>2</th>\n",
              "      <td>4.98</td>\n",
              "      <td>7.69</td>\n",
              "      <td>510</td>\n",
              "      <td>326.40</td>\n",
              "      <td>0.0</td>\n",
              "      <td>200.0</td>\n",
              "      <td>30</td>\n",
              "      <td>0.66</td>\n",
              "      <td>41.471545</td>\n",
              "      <td>44.0</td>\n",
              "      <td>45.0</td>\n",
              "      <td>2.0</td>\n",
              "      <td>24.0</td>\n",
              "      <td>38.896</td>\n",
              "      <td>219.934211</td>\n",
              "      <td>1.319284</td>\n",
              "      <td>C2S1</td>\n",
              "    </tr>\n",
              "    <tr>\n",
              "      <th>3</th>\n",
              "      <td>5.75</td>\n",
              "      <td>8.09</td>\n",
              "      <td>422</td>\n",
              "      <td>270.08</td>\n",
              "      <td>0.0</td>\n",
              "      <td>160.0</td>\n",
              "      <td>10</td>\n",
              "      <td>0.58</td>\n",
              "      <td>10.669864</td>\n",
              "      <td>35.0</td>\n",
              "      <td>27.0</td>\n",
              "      <td>1.0</td>\n",
              "      <td>32.0</td>\n",
              "      <td>19.448</td>\n",
              "      <td>159.967105</td>\n",
              "      <td>0.928155</td>\n",
              "      <td>C2S1</td>\n",
              "    </tr>\n",
              "    <tr>\n",
              "      <th>4</th>\n",
              "      <td>2.15</td>\n",
              "      <td>8.21</td>\n",
              "      <td>2321</td>\n",
              "      <td>1485.44</td>\n",
              "      <td>0.0</td>\n",
              "      <td>300.0</td>\n",
              "      <td>340</td>\n",
              "      <td>2.56</td>\n",
              "      <td>128.843636</td>\n",
              "      <td>280.0</td>\n",
              "      <td>298.0</td>\n",
              "      <td>5.0</td>\n",
              "      <td>56.0</td>\n",
              "      <td>92.378</td>\n",
              "      <td>519.843750</td>\n",
              "      <td>5.682664</td>\n",
              "      <td>C4S2</td>\n",
              "    </tr>\n",
              "  </tbody>\n",
              "</table>\n",
              "</div>"
            ],
            "text/plain": [
              "    gwl    pH   E.C      TDS  CO3   HCO3   Cl     F        NO3     SO4     Na  \\\n",
              "0  5.09  8.28   745   476.80  0.0  220.0   60  0.44   42.276818   46.0   49.0   \n",
              "1  5.10  8.29   921   589.44  0.0  230.0   80  0.56  100.659091   68.0   42.0   \n",
              "2  4.98  7.69   510   326.40  0.0  200.0   30  0.66   41.471545   44.0   45.0   \n",
              "3  5.75  8.09   422   270.08  0.0  160.0   10  0.58   10.669864   35.0   27.0   \n",
              "4  2.15  8.21  2321  1485.44  0.0  300.0  340  2.56  128.843636  280.0  298.0   \n",
              "\n",
              "     K    Ca      Mg         T.H       SAR Classification  \n",
              "0  4.0  48.0  38.896  279.934211  1.273328           C2S1  \n",
              "1  5.0  56.0  63.206  399.893092  0.913166           C3S1  \n",
              "2  2.0  24.0  38.896  219.934211  1.319284           C2S1  \n",
              "3  1.0  32.0  19.448  159.967105  0.928155           C2S1  \n",
              "4  5.0  56.0  92.378  519.843750  5.682664           C4S2  "
            ]
          },
          "execution_count": 22,
          "metadata": {},
          "output_type": "execute_result"
        }
      ],
      "source": [
        "water_data.head()"
      ]
    },
    {
      "cell_type": "code",
      "execution_count": 23,
      "metadata": {},
      "outputs": [
        {
          "name": "stdout",
          "output_type": "stream",
          "text": [
            "<class 'pandas.core.frame.DataFrame'>\n",
            "Int64Index: 1106 entries, 0 to 367\n",
            "Data columns (total 17 columns):\n",
            " #   Column          Non-Null Count  Dtype  \n",
            "---  ------          --------------  -----  \n",
            " 0   gwl             1106 non-null   float64\n",
            " 1   pH              1106 non-null   float64\n",
            " 2   E.C             1106 non-null   int64  \n",
            " 3   TDS             1106 non-null   float64\n",
            " 4   CO3             1106 non-null   float64\n",
            " 5   HCO3            1106 non-null   float64\n",
            " 6   Cl              1106 non-null   int64  \n",
            " 7   F               1106 non-null   float64\n",
            " 8   NO3             1106 non-null   float64\n",
            " 9   SO4             1106 non-null   float64\n",
            " 10  Na              1106 non-null   float64\n",
            " 11  K               1106 non-null   float64\n",
            " 12  Ca              1106 non-null   float64\n",
            " 13  Mg              1106 non-null   float64\n",
            " 14  T.H             1106 non-null   float64\n",
            " 15  SAR             1106 non-null   float64\n",
            " 16  Classification  1106 non-null   object \n",
            "dtypes: float64(14), int64(2), object(1)\n",
            "memory usage: 195.5+ KB\n"
          ]
        }
      ],
      "source": [
        "water_data.info()"
      ]
    },
    {
      "cell_type": "code",
      "execution_count": 24,
      "metadata": {},
      "outputs": [],
      "source": [
        "water_data['Cl']=water_data['Cl'].astype(float)"
      ]
    },
    {
      "cell_type": "code",
      "execution_count": 25,
      "metadata": {},
      "outputs": [],
      "source": [
        "water_data['E.C']=water_data['E.C'].astype(float)"
      ]
    },
    {
      "cell_type": "code",
      "execution_count": 26,
      "metadata": {},
      "outputs": [
        {
          "name": "stdout",
          "output_type": "stream",
          "text": [
            "<class 'pandas.core.frame.DataFrame'>\n",
            "Int64Index: 1106 entries, 0 to 367\n",
            "Data columns (total 17 columns):\n",
            " #   Column          Non-Null Count  Dtype  \n",
            "---  ------          --------------  -----  \n",
            " 0   gwl             1106 non-null   float64\n",
            " 1   pH              1106 non-null   float64\n",
            " 2   E.C             1106 non-null   float64\n",
            " 3   TDS             1106 non-null   float64\n",
            " 4   CO3             1106 non-null   float64\n",
            " 5   HCO3            1106 non-null   float64\n",
            " 6   Cl              1106 non-null   float64\n",
            " 7   F               1106 non-null   float64\n",
            " 8   NO3             1106 non-null   float64\n",
            " 9   SO4             1106 non-null   float64\n",
            " 10  Na              1106 non-null   float64\n",
            " 11  K               1106 non-null   float64\n",
            " 12  Ca              1106 non-null   float64\n",
            " 13  Mg              1106 non-null   float64\n",
            " 14  T.H             1106 non-null   float64\n",
            " 15  SAR             1106 non-null   float64\n",
            " 16  Classification  1106 non-null   object \n",
            "dtypes: float64(16), object(1)\n",
            "memory usage: 195.5+ KB\n"
          ]
        }
      ],
      "source": [
        "water_data.info()"
      ]
    },
    {
      "cell_type": "code",
      "execution_count": 27,
      "metadata": {},
      "outputs": [
        {
          "data": {
            "text/plain": [
              "gwl               0\n",
              "pH                0\n",
              "E.C               0\n",
              "TDS               0\n",
              "CO3               0\n",
              "HCO3              0\n",
              "Cl                0\n",
              "F                 0\n",
              "NO3               0\n",
              "SO4               0\n",
              "Na                0\n",
              "K                 0\n",
              "Ca                0\n",
              "Mg                0\n",
              "T.H               0\n",
              "SAR               0\n",
              "Classification    0\n",
              "dtype: int64"
            ]
          },
          "execution_count": 27,
          "metadata": {},
          "output_type": "execute_result"
        }
      ],
      "source": [
        "water_data.isnull().sum()"
      ]
    },
    {
      "cell_type": "code",
      "execution_count": 28,
      "metadata": {
        "colab": {
          "base_uri": "https://localhost:8080/"
        },
        "id": "WHa2ptaKa1DB",
        "outputId": "83673ea5-a41c-419a-ca43-76c38ddd9a1f"
      },
      "outputs": [
        {
          "data": {
            "text/plain": [
              "C3S1    696\n",
              "C2S1    248\n",
              "C4S1     87\n",
              "C4S2     36\n",
              "C3S2     12\n",
              "C4S4      7\n",
              "C3S3      6\n",
              "C4S3      5\n",
              "C1S1      3\n",
              "O.G       2\n",
              "OG        2\n",
              "C3S4      1\n",
              "C2S2      1\n",
              "Name: Classification, dtype: int64"
            ]
          },
          "execution_count": 28,
          "metadata": {},
          "output_type": "execute_result"
        }
      ],
      "source": [
        "water_data['Classification'].value_counts()"
      ]
    },
    {
      "cell_type": "code",
      "execution_count": 29,
      "metadata": {},
      "outputs": [
        {
          "data": {
            "text/html": [
              "<div>\n",
              "<style scoped>\n",
              "    .dataframe tbody tr th:only-of-type {\n",
              "        vertical-align: middle;\n",
              "    }\n",
              "\n",
              "    .dataframe tbody tr th {\n",
              "        vertical-align: top;\n",
              "    }\n",
              "\n",
              "    .dataframe thead th {\n",
              "        text-align: right;\n",
              "    }\n",
              "</style>\n",
              "<table border=\"1\" class=\"dataframe\">\n",
              "  <thead>\n",
              "    <tr style=\"text-align: right;\">\n",
              "      <th></th>\n",
              "      <th>gwl</th>\n",
              "      <th>pH</th>\n",
              "      <th>E.C</th>\n",
              "      <th>TDS</th>\n",
              "      <th>CO3</th>\n",
              "      <th>HCO3</th>\n",
              "      <th>Cl</th>\n",
              "      <th>F</th>\n",
              "      <th>NO3</th>\n",
              "      <th>SO4</th>\n",
              "      <th>Na</th>\n",
              "      <th>K</th>\n",
              "      <th>Ca</th>\n",
              "      <th>Mg</th>\n",
              "      <th>T.H</th>\n",
              "      <th>SAR</th>\n",
              "    </tr>\n",
              "  </thead>\n",
              "  <tbody>\n",
              "    <tr>\n",
              "      <th>gwl</th>\n",
              "      <td>1.000000</td>\n",
              "      <td>-0.100006</td>\n",
              "      <td>-0.033191</td>\n",
              "      <td>-0.033191</td>\n",
              "      <td>-0.027261</td>\n",
              "      <td>-0.008416</td>\n",
              "      <td>-0.027017</td>\n",
              "      <td>0.066193</td>\n",
              "      <td>-0.000129</td>\n",
              "      <td>-0.132788</td>\n",
              "      <td>-0.083766</td>\n",
              "      <td>-0.063029</td>\n",
              "      <td>0.045547</td>\n",
              "      <td>-0.021435</td>\n",
              "      <td>0.014601</td>\n",
              "      <td>-0.069976</td>\n",
              "    </tr>\n",
              "    <tr>\n",
              "      <th>pH</th>\n",
              "      <td>-0.100006</td>\n",
              "      <td>1.000000</td>\n",
              "      <td>-0.167119</td>\n",
              "      <td>-0.167119</td>\n",
              "      <td>0.600428</td>\n",
              "      <td>-0.119147</td>\n",
              "      <td>-0.187895</td>\n",
              "      <td>0.136430</td>\n",
              "      <td>-0.098089</td>\n",
              "      <td>0.047014</td>\n",
              "      <td>0.087666</td>\n",
              "      <td>0.009456</td>\n",
              "      <td>-0.444366</td>\n",
              "      <td>-0.108793</td>\n",
              "      <td>-0.338736</td>\n",
              "      <td>0.244655</td>\n",
              "    </tr>\n",
              "    <tr>\n",
              "      <th>E.C</th>\n",
              "      <td>-0.033191</td>\n",
              "      <td>-0.167119</td>\n",
              "      <td>1.000000</td>\n",
              "      <td>1.000000</td>\n",
              "      <td>-0.064630</td>\n",
              "      <td>0.604290</td>\n",
              "      <td>0.937154</td>\n",
              "      <td>0.078763</td>\n",
              "      <td>0.565982</td>\n",
              "      <td>0.403046</td>\n",
              "      <td>0.805623</td>\n",
              "      <td>0.289333</td>\n",
              "      <td>0.633168</td>\n",
              "      <td>0.732839</td>\n",
              "      <td>0.835927</td>\n",
              "      <td>0.485232</td>\n",
              "    </tr>\n",
              "    <tr>\n",
              "      <th>TDS</th>\n",
              "      <td>-0.033191</td>\n",
              "      <td>-0.167119</td>\n",
              "      <td>1.000000</td>\n",
              "      <td>1.000000</td>\n",
              "      <td>-0.064630</td>\n",
              "      <td>0.604290</td>\n",
              "      <td>0.937154</td>\n",
              "      <td>0.078763</td>\n",
              "      <td>0.565982</td>\n",
              "      <td>0.403046</td>\n",
              "      <td>0.805623</td>\n",
              "      <td>0.289333</td>\n",
              "      <td>0.633168</td>\n",
              "      <td>0.732839</td>\n",
              "      <td>0.835927</td>\n",
              "      <td>0.485232</td>\n",
              "    </tr>\n",
              "    <tr>\n",
              "      <th>CO3</th>\n",
              "      <td>-0.027261</td>\n",
              "      <td>0.600428</td>\n",
              "      <td>-0.064630</td>\n",
              "      <td>-0.064630</td>\n",
              "      <td>1.000000</td>\n",
              "      <td>-0.026405</td>\n",
              "      <td>-0.100491</td>\n",
              "      <td>0.187801</td>\n",
              "      <td>-0.081423</td>\n",
              "      <td>-0.031862</td>\n",
              "      <td>0.111685</td>\n",
              "      <td>-0.007531</td>\n",
              "      <td>-0.222333</td>\n",
              "      <td>-0.104571</td>\n",
              "      <td>-0.200005</td>\n",
              "      <td>0.246174</td>\n",
              "    </tr>\n",
              "    <tr>\n",
              "      <th>HCO3</th>\n",
              "      <td>-0.008416</td>\n",
              "      <td>-0.119147</td>\n",
              "      <td>0.604290</td>\n",
              "      <td>0.604290</td>\n",
              "      <td>-0.026405</td>\n",
              "      <td>1.000000</td>\n",
              "      <td>0.368176</td>\n",
              "      <td>0.351965</td>\n",
              "      <td>0.166309</td>\n",
              "      <td>0.107907</td>\n",
              "      <td>0.630861</td>\n",
              "      <td>0.135203</td>\n",
              "      <td>0.251738</td>\n",
              "      <td>0.403065</td>\n",
              "      <td>0.400872</td>\n",
              "      <td>0.534163</td>\n",
              "    </tr>\n",
              "    <tr>\n",
              "      <th>Cl</th>\n",
              "      <td>-0.027017</td>\n",
              "      <td>-0.187895</td>\n",
              "      <td>0.937154</td>\n",
              "      <td>0.937154</td>\n",
              "      <td>-0.100491</td>\n",
              "      <td>0.368176</td>\n",
              "      <td>1.000000</td>\n",
              "      <td>-0.052746</td>\n",
              "      <td>0.453252</td>\n",
              "      <td>0.351377</td>\n",
              "      <td>0.707487</td>\n",
              "      <td>0.231955</td>\n",
              "      <td>0.652441</td>\n",
              "      <td>0.705381</td>\n",
              "      <td>0.830834</td>\n",
              "      <td>0.359258</td>\n",
              "    </tr>\n",
              "    <tr>\n",
              "      <th>F</th>\n",
              "      <td>0.066193</td>\n",
              "      <td>0.136430</td>\n",
              "      <td>0.078763</td>\n",
              "      <td>0.078763</td>\n",
              "      <td>0.187801</td>\n",
              "      <td>0.351965</td>\n",
              "      <td>-0.052746</td>\n",
              "      <td>1.000000</td>\n",
              "      <td>-0.063521</td>\n",
              "      <td>0.022158</td>\n",
              "      <td>0.233060</td>\n",
              "      <td>-0.037496</td>\n",
              "      <td>-0.137676</td>\n",
              "      <td>0.000441</td>\n",
              "      <td>-0.083900</td>\n",
              "      <td>0.374330</td>\n",
              "    </tr>\n",
              "    <tr>\n",
              "      <th>NO3</th>\n",
              "      <td>-0.000129</td>\n",
              "      <td>-0.098089</td>\n",
              "      <td>0.565982</td>\n",
              "      <td>0.565982</td>\n",
              "      <td>-0.081423</td>\n",
              "      <td>0.166309</td>\n",
              "      <td>0.453252</td>\n",
              "      <td>-0.063521</td>\n",
              "      <td>1.000000</td>\n",
              "      <td>0.133826</td>\n",
              "      <td>0.336259</td>\n",
              "      <td>0.335962</td>\n",
              "      <td>0.415151</td>\n",
              "      <td>0.492817</td>\n",
              "      <td>0.555552</td>\n",
              "      <td>0.134042</td>\n",
              "    </tr>\n",
              "    <tr>\n",
              "      <th>SO4</th>\n",
              "      <td>-0.132788</td>\n",
              "      <td>0.047014</td>\n",
              "      <td>0.403046</td>\n",
              "      <td>0.403046</td>\n",
              "      <td>-0.031862</td>\n",
              "      <td>0.107907</td>\n",
              "      <td>0.351377</td>\n",
              "      <td>0.022158</td>\n",
              "      <td>0.133826</td>\n",
              "      <td>1.000000</td>\n",
              "      <td>0.440910</td>\n",
              "      <td>0.293191</td>\n",
              "      <td>0.164852</td>\n",
              "      <td>0.274108</td>\n",
              "      <td>0.268450</td>\n",
              "      <td>0.306554</td>\n",
              "    </tr>\n",
              "    <tr>\n",
              "      <th>Na</th>\n",
              "      <td>-0.083766</td>\n",
              "      <td>0.087666</td>\n",
              "      <td>0.805623</td>\n",
              "      <td>0.805623</td>\n",
              "      <td>0.111685</td>\n",
              "      <td>0.630861</td>\n",
              "      <td>0.707487</td>\n",
              "      <td>0.233060</td>\n",
              "      <td>0.336259</td>\n",
              "      <td>0.440910</td>\n",
              "      <td>1.000000</td>\n",
              "      <td>0.262001</td>\n",
              "      <td>0.193489</td>\n",
              "      <td>0.405514</td>\n",
              "      <td>0.366398</td>\n",
              "      <td>0.847884</td>\n",
              "    </tr>\n",
              "    <tr>\n",
              "      <th>K</th>\n",
              "      <td>-0.063029</td>\n",
              "      <td>0.009456</td>\n",
              "      <td>0.289333</td>\n",
              "      <td>0.289333</td>\n",
              "      <td>-0.007531</td>\n",
              "      <td>0.135203</td>\n",
              "      <td>0.231955</td>\n",
              "      <td>-0.037496</td>\n",
              "      <td>0.335962</td>\n",
              "      <td>0.293191</td>\n",
              "      <td>0.262001</td>\n",
              "      <td>1.000000</td>\n",
              "      <td>0.092262</td>\n",
              "      <td>0.144530</td>\n",
              "      <td>0.144840</td>\n",
              "      <td>0.165270</td>\n",
              "    </tr>\n",
              "    <tr>\n",
              "      <th>Ca</th>\n",
              "      <td>0.045547</td>\n",
              "      <td>-0.444366</td>\n",
              "      <td>0.633168</td>\n",
              "      <td>0.633168</td>\n",
              "      <td>-0.222333</td>\n",
              "      <td>0.251738</td>\n",
              "      <td>0.652441</td>\n",
              "      <td>-0.137676</td>\n",
              "      <td>0.415151</td>\n",
              "      <td>0.164852</td>\n",
              "      <td>0.193489</td>\n",
              "      <td>0.092262</td>\n",
              "      <td>1.000000</td>\n",
              "      <td>0.334967</td>\n",
              "      <td>0.817416</td>\n",
              "      <td>-0.087104</td>\n",
              "    </tr>\n",
              "    <tr>\n",
              "      <th>Mg</th>\n",
              "      <td>-0.021435</td>\n",
              "      <td>-0.108793</td>\n",
              "      <td>0.732839</td>\n",
              "      <td>0.732839</td>\n",
              "      <td>-0.104571</td>\n",
              "      <td>0.403065</td>\n",
              "      <td>0.705381</td>\n",
              "      <td>0.000441</td>\n",
              "      <td>0.492817</td>\n",
              "      <td>0.274108</td>\n",
              "      <td>0.405514</td>\n",
              "      <td>0.144530</td>\n",
              "      <td>0.334967</td>\n",
              "      <td>1.000000</td>\n",
              "      <td>0.816548</td>\n",
              "      <td>0.077267</td>\n",
              "    </tr>\n",
              "    <tr>\n",
              "      <th>T.H</th>\n",
              "      <td>0.014601</td>\n",
              "      <td>-0.338736</td>\n",
              "      <td>0.835927</td>\n",
              "      <td>0.835927</td>\n",
              "      <td>-0.200005</td>\n",
              "      <td>0.400872</td>\n",
              "      <td>0.830834</td>\n",
              "      <td>-0.083900</td>\n",
              "      <td>0.555552</td>\n",
              "      <td>0.268450</td>\n",
              "      <td>0.366398</td>\n",
              "      <td>0.144840</td>\n",
              "      <td>0.817416</td>\n",
              "      <td>0.816548</td>\n",
              "      <td>1.000000</td>\n",
              "      <td>-0.006242</td>\n",
              "    </tr>\n",
              "    <tr>\n",
              "      <th>SAR</th>\n",
              "      <td>-0.069976</td>\n",
              "      <td>0.244655</td>\n",
              "      <td>0.485232</td>\n",
              "      <td>0.485232</td>\n",
              "      <td>0.246174</td>\n",
              "      <td>0.534163</td>\n",
              "      <td>0.359258</td>\n",
              "      <td>0.374330</td>\n",
              "      <td>0.134042</td>\n",
              "      <td>0.306554</td>\n",
              "      <td>0.847884</td>\n",
              "      <td>0.165270</td>\n",
              "      <td>-0.087104</td>\n",
              "      <td>0.077267</td>\n",
              "      <td>-0.006242</td>\n",
              "      <td>1.000000</td>\n",
              "    </tr>\n",
              "  </tbody>\n",
              "</table>\n",
              "</div>"
            ],
            "text/plain": [
              "           gwl        pH       E.C       TDS       CO3      HCO3        Cl  \\\n",
              "gwl   1.000000 -0.100006 -0.033191 -0.033191 -0.027261 -0.008416 -0.027017   \n",
              "pH   -0.100006  1.000000 -0.167119 -0.167119  0.600428 -0.119147 -0.187895   \n",
              "E.C  -0.033191 -0.167119  1.000000  1.000000 -0.064630  0.604290  0.937154   \n",
              "TDS  -0.033191 -0.167119  1.000000  1.000000 -0.064630  0.604290  0.937154   \n",
              "CO3  -0.027261  0.600428 -0.064630 -0.064630  1.000000 -0.026405 -0.100491   \n",
              "HCO3 -0.008416 -0.119147  0.604290  0.604290 -0.026405  1.000000  0.368176   \n",
              "Cl   -0.027017 -0.187895  0.937154  0.937154 -0.100491  0.368176  1.000000   \n",
              "F     0.066193  0.136430  0.078763  0.078763  0.187801  0.351965 -0.052746   \n",
              "NO3  -0.000129 -0.098089  0.565982  0.565982 -0.081423  0.166309  0.453252   \n",
              "SO4  -0.132788  0.047014  0.403046  0.403046 -0.031862  0.107907  0.351377   \n",
              "Na   -0.083766  0.087666  0.805623  0.805623  0.111685  0.630861  0.707487   \n",
              "K    -0.063029  0.009456  0.289333  0.289333 -0.007531  0.135203  0.231955   \n",
              "Ca    0.045547 -0.444366  0.633168  0.633168 -0.222333  0.251738  0.652441   \n",
              "Mg   -0.021435 -0.108793  0.732839  0.732839 -0.104571  0.403065  0.705381   \n",
              "T.H   0.014601 -0.338736  0.835927  0.835927 -0.200005  0.400872  0.830834   \n",
              "SAR  -0.069976  0.244655  0.485232  0.485232  0.246174  0.534163  0.359258   \n",
              "\n",
              "             F      NO3        SO4        Na         K        Ca        Mg  \\\n",
              "gwl   0.066193 -0.000129 -0.132788 -0.083766 -0.063029  0.045547 -0.021435   \n",
              "pH    0.136430 -0.098089  0.047014  0.087666  0.009456 -0.444366 -0.108793   \n",
              "E.C   0.078763  0.565982  0.403046  0.805623  0.289333  0.633168  0.732839   \n",
              "TDS   0.078763  0.565982  0.403046  0.805623  0.289333  0.633168  0.732839   \n",
              "CO3   0.187801 -0.081423 -0.031862  0.111685 -0.007531 -0.222333 -0.104571   \n",
              "HCO3  0.351965  0.166309  0.107907  0.630861  0.135203  0.251738  0.403065   \n",
              "Cl   -0.052746  0.453252  0.351377  0.707487  0.231955  0.652441  0.705381   \n",
              "F     1.000000 -0.063521  0.022158  0.233060 -0.037496 -0.137676  0.000441   \n",
              "NO3  -0.063521  1.000000  0.133826  0.336259  0.335962  0.415151  0.492817   \n",
              "SO4   0.022158  0.133826  1.000000  0.440910  0.293191  0.164852  0.274108   \n",
              "Na    0.233060  0.336259  0.440910  1.000000  0.262001  0.193489  0.405514   \n",
              "K    -0.037496  0.335962  0.293191  0.262001  1.000000  0.092262  0.144530   \n",
              "Ca   -0.137676  0.415151  0.164852  0.193489  0.092262  1.000000  0.334967   \n",
              "Mg    0.000441  0.492817  0.274108  0.405514  0.144530  0.334967  1.000000   \n",
              "T.H  -0.083900  0.555552  0.268450  0.366398  0.144840  0.817416  0.816548   \n",
              "SAR   0.374330  0.134042  0.306554  0.847884  0.165270 -0.087104  0.077267   \n",
              "\n",
              "           T.H       SAR  \n",
              "gwl   0.014601 -0.069976  \n",
              "pH   -0.338736  0.244655  \n",
              "E.C   0.835927  0.485232  \n",
              "TDS   0.835927  0.485232  \n",
              "CO3  -0.200005  0.246174  \n",
              "HCO3  0.400872  0.534163  \n",
              "Cl    0.830834  0.359258  \n",
              "F    -0.083900  0.374330  \n",
              "NO3   0.555552  0.134042  \n",
              "SO4   0.268450  0.306554  \n",
              "Na    0.366398  0.847884  \n",
              "K     0.144840  0.165270  \n",
              "Ca    0.817416 -0.087104  \n",
              "Mg    0.816548  0.077267  \n",
              "T.H   1.000000 -0.006242  \n",
              "SAR  -0.006242  1.000000  "
            ]
          },
          "execution_count": 29,
          "metadata": {},
          "output_type": "execute_result"
        }
      ],
      "source": [
        "water_data.corr()"
      ]
    },
    {
      "cell_type": "code",
      "execution_count": 30,
      "metadata": {},
      "outputs": [
        {
          "data": {
            "text/plain": [
              "<matplotlib.collections.PathCollection at 0x27691434470>"
            ]
          },
          "execution_count": 30,
          "metadata": {},
          "output_type": "execute_result"
        },
        {
          "data": {
            "image/png": "[encoded data removed]",
            "text/plain": [
              "<Figure size 640x480 with 1 Axes>"
            ]
          },
          "metadata": {},
          "output_type": "display_data"
        }
      ],
      "source": [
        "plt.scatter(water_data['TDS'],water_data['Classification'])"
      ]
    },
    {
      "cell_type": "code",
      "execution_count": 31,
      "metadata": {
        "id": "44u1P-IOa9vC"
      },
      "outputs": [],
      "source": [
        "water_data = water_data[~water_data['Classification'].isin(['C3S4', 'C2S2','OG','O.G'])]"
      ]
    },
    {
      "cell_type": "code",
      "execution_count": 32,
      "metadata": {
        "id": "xliXjixnbNDg"
      },
      "outputs": [],
      "source": [
        "#splitting train and test by startified\n",
        "X=water_data.drop(['Classification'],axis=1)\n",
        "y=water_data['Classification']\n",
        "X_train, X_test, y_train, y_test = train_test_split(X, y, test_size=0.3,random_state=42)"
      ]
    },
    {
      "cell_type": "code",
      "execution_count": 33,
      "metadata": {},
      "outputs": [
        {
          "data": {
            "text/html": [
              "<div>\n",
              "<style scoped>\n",
              "    .dataframe tbody tr th:only-of-type {\n",
              "        vertical-align: middle;\n",
              "    }\n",
              "\n",
              "    .dataframe tbody tr th {\n",
              "        vertical-align: top;\n",
              "    }\n",
              "\n",
              "    .dataframe thead th {\n",
              "        text-align: right;\n",
              "    }\n",
              "</style>\n",
              "<table border=\"1\" class=\"dataframe\">\n",
              "  <thead>\n",
              "    <tr style=\"text-align: right;\">\n",
              "      <th></th>\n",
              "      <th>gwl</th>\n",
              "      <th>pH</th>\n",
              "      <th>E.C</th>\n",
              "      <th>TDS</th>\n",
              "      <th>CO3</th>\n",
              "      <th>HCO3</th>\n",
              "      <th>Cl</th>\n",
              "      <th>F</th>\n",
              "      <th>NO3</th>\n",
              "      <th>SO4</th>\n",
              "      <th>Na</th>\n",
              "      <th>K</th>\n",
              "      <th>Ca</th>\n",
              "      <th>Mg</th>\n",
              "      <th>T.H</th>\n",
              "      <th>SAR</th>\n",
              "    </tr>\n",
              "  </thead>\n",
              "  <tbody>\n",
              "    <tr>\n",
              "      <th>223</th>\n",
              "      <td>15.26</td>\n",
              "      <td>8.29</td>\n",
              "      <td>879.0</td>\n",
              "      <td>562.56</td>\n",
              "      <td>0.000000</td>\n",
              "      <td>388.689925</td>\n",
              "      <td>20.0</td>\n",
              "      <td>2.040</td>\n",
              "      <td>14.837150</td>\n",
              "      <td>6.0</td>\n",
              "      <td>83.442126</td>\n",
              "      <td>1.98</td>\n",
              "      <td>72.0</td>\n",
              "      <td>19.448</td>\n",
              "      <td>259.967105</td>\n",
              "      <td>2.250082</td>\n",
              "    </tr>\n",
              "    <tr>\n",
              "      <th>237</th>\n",
              "      <td>2.52</td>\n",
              "      <td>8.01</td>\n",
              "      <td>620.0</td>\n",
              "      <td>396.80</td>\n",
              "      <td>0.000000</td>\n",
              "      <td>160.000000</td>\n",
              "      <td>70.0</td>\n",
              "      <td>0.660</td>\n",
              "      <td>43.887364</td>\n",
              "      <td>73.0</td>\n",
              "      <td>69.000000</td>\n",
              "      <td>2.00</td>\n",
              "      <td>32.0</td>\n",
              "      <td>34.034</td>\n",
              "      <td>219.942434</td>\n",
              "      <td>2.022864</td>\n",
              "    </tr>\n",
              "    <tr>\n",
              "      <th>61</th>\n",
              "      <td>20.48</td>\n",
              "      <td>8.38</td>\n",
              "      <td>2016.0</td>\n",
              "      <td>1290.24</td>\n",
              "      <td>20.000000</td>\n",
              "      <td>770.000000</td>\n",
              "      <td>130.0</td>\n",
              "      <td>2.620</td>\n",
              "      <td>20.949170</td>\n",
              "      <td>27.0</td>\n",
              "      <td>363.000000</td>\n",
              "      <td>3.50</td>\n",
              "      <td>24.0</td>\n",
              "      <td>38.896</td>\n",
              "      <td>219.934211</td>\n",
              "      <td>10.642224</td>\n",
              "    </tr>\n",
              "    <tr>\n",
              "      <th>227</th>\n",
              "      <td>1.60</td>\n",
              "      <td>8.28</td>\n",
              "      <td>710.0</td>\n",
              "      <td>454.40</td>\n",
              "      <td>0.000000</td>\n",
              "      <td>280.000000</td>\n",
              "      <td>50.0</td>\n",
              "      <td>0.910</td>\n",
              "      <td>13.689636</td>\n",
              "      <td>76.0</td>\n",
              "      <td>81.000000</td>\n",
              "      <td>3.00</td>\n",
              "      <td>32.0</td>\n",
              "      <td>48.620</td>\n",
              "      <td>279.917763</td>\n",
              "      <td>2.104951</td>\n",
              "    </tr>\n",
              "    <tr>\n",
              "      <th>307</th>\n",
              "      <td>12.67</td>\n",
              "      <td>7.19</td>\n",
              "      <td>1240.0</td>\n",
              "      <td>793.60</td>\n",
              "      <td>0.000000</td>\n",
              "      <td>290.000000</td>\n",
              "      <td>150.0</td>\n",
              "      <td>1.290</td>\n",
              "      <td>56.369091</td>\n",
              "      <td>82.0</td>\n",
              "      <td>196.000000</td>\n",
              "      <td>9.00</td>\n",
              "      <td>56.0</td>\n",
              "      <td>14.586</td>\n",
              "      <td>199.975329</td>\n",
              "      <td>6.026151</td>\n",
              "    </tr>\n",
              "    <tr>\n",
              "      <th>...</th>\n",
              "      <td>...</td>\n",
              "      <td>...</td>\n",
              "      <td>...</td>\n",
              "      <td>...</td>\n",
              "      <td>...</td>\n",
              "      <td>...</td>\n",
              "      <td>...</td>\n",
              "      <td>...</td>\n",
              "      <td>...</td>\n",
              "      <td>...</td>\n",
              "      <td>...</td>\n",
              "      <td>...</td>\n",
              "      <td>...</td>\n",
              "      <td>...</td>\n",
              "      <td>...</td>\n",
              "      <td>...</td>\n",
              "    </tr>\n",
              "    <tr>\n",
              "      <th>94</th>\n",
              "      <td>2.80</td>\n",
              "      <td>7.78</td>\n",
              "      <td>2340.0</td>\n",
              "      <td>1497.60</td>\n",
              "      <td>6.002408</td>\n",
              "      <td>580.000000</td>\n",
              "      <td>280.0</td>\n",
              "      <td>0.710</td>\n",
              "      <td>211.263300</td>\n",
              "      <td>33.0</td>\n",
              "      <td>231.000000</td>\n",
              "      <td>5.50</td>\n",
              "      <td>152.0</td>\n",
              "      <td>72.930</td>\n",
              "      <td>679.876645</td>\n",
              "      <td>3.851847</td>\n",
              "    </tr>\n",
              "    <tr>\n",
              "      <th>121</th>\n",
              "      <td>6.69</td>\n",
              "      <td>8.15</td>\n",
              "      <td>212.0</td>\n",
              "      <td>135.68</td>\n",
              "      <td>0.000000</td>\n",
              "      <td>30.000000</td>\n",
              "      <td>20.0</td>\n",
              "      <td>0.110</td>\n",
              "      <td>22.547636</td>\n",
              "      <td>31.0</td>\n",
              "      <td>22.000000</td>\n",
              "      <td>1.00</td>\n",
              "      <td>8.0</td>\n",
              "      <td>9.724</td>\n",
              "      <td>59.983553</td>\n",
              "      <td>1.235034</td>\n",
              "    </tr>\n",
              "    <tr>\n",
              "      <th>312</th>\n",
              "      <td>2.31</td>\n",
              "      <td>7.99</td>\n",
              "      <td>771.0</td>\n",
              "      <td>493.44</td>\n",
              "      <td>0.000000</td>\n",
              "      <td>280.000000</td>\n",
              "      <td>50.0</td>\n",
              "      <td>0.511</td>\n",
              "      <td>9.478060</td>\n",
              "      <td>9.0</td>\n",
              "      <td>32.600000</td>\n",
              "      <td>2.26</td>\n",
              "      <td>56.0</td>\n",
              "      <td>38.896</td>\n",
              "      <td>299.934211</td>\n",
              "      <td>0.818421</td>\n",
              "    </tr>\n",
              "    <tr>\n",
              "      <th>363</th>\n",
              "      <td>9.90</td>\n",
              "      <td>7.80</td>\n",
              "      <td>2324.0</td>\n",
              "      <td>1487.36</td>\n",
              "      <td>0.000000</td>\n",
              "      <td>370.000000</td>\n",
              "      <td>370.0</td>\n",
              "      <td>0.580</td>\n",
              "      <td>336.161100</td>\n",
              "      <td>33.0</td>\n",
              "      <td>169.300000</td>\n",
              "      <td>2.60</td>\n",
              "      <td>160.0</td>\n",
              "      <td>97.240</td>\n",
              "      <td>799.835526</td>\n",
              "      <td>2.602728</td>\n",
              "    </tr>\n",
              "    <tr>\n",
              "      <th>126</th>\n",
              "      <td>7.29</td>\n",
              "      <td>8.92</td>\n",
              "      <td>957.0</td>\n",
              "      <td>612.48</td>\n",
              "      <td>70.000000</td>\n",
              "      <td>380.000000</td>\n",
              "      <td>30.0</td>\n",
              "      <td>2.210</td>\n",
              "      <td>0.974380</td>\n",
              "      <td>10.0</td>\n",
              "      <td>161.000000</td>\n",
              "      <td>0.50</td>\n",
              "      <td>24.0</td>\n",
              "      <td>24.310</td>\n",
              "      <td>159.958882</td>\n",
              "      <td>5.534697</td>\n",
              "    </tr>\n",
              "  </tbody>\n",
              "</table>\n",
              "<p>770 rows × 16 columns</p>\n",
              "</div>"
            ],
            "text/plain": [
              "       gwl    pH     E.C      TDS        CO3        HCO3     Cl      F  \\\n",
              "223  15.26  8.29   879.0   562.56   0.000000  388.689925   20.0  2.040   \n",
              "237   2.52  8.01   620.0   396.80   0.000000  160.000000   70.0  0.660   \n",
              "61   20.48  8.38  2016.0  1290.24  20.000000  770.000000  130.0  2.620   \n",
              "227   1.60  8.28   710.0   454.40   0.000000  280.000000   50.0  0.910   \n",
              "307  12.67  7.19  1240.0   793.60   0.000000  290.000000  150.0  1.290   \n",
              "..     ...   ...     ...      ...        ...         ...    ...    ...   \n",
              "94    2.80  7.78  2340.0  1497.60   6.002408  580.000000  280.0  0.710   \n",
              "121   6.69  8.15   212.0   135.68   0.000000   30.000000   20.0  0.110   \n",
              "312   2.31  7.99   771.0   493.44   0.000000  280.000000   50.0  0.511   \n",
              "363   9.90  7.80  2324.0  1487.36   0.000000  370.000000  370.0  0.580   \n",
              "126   7.29  8.92   957.0   612.48  70.000000  380.000000   30.0  2.210   \n",
              "\n",
              "           NO3    SO4          Na     K     Ca      Mg         T.H        SAR  \n",
              "223   14.837150   6.0   83.442126  1.98   72.0  19.448  259.967105   2.250082  \n",
              "237   43.887364  73.0   69.000000  2.00   32.0  34.034  219.942434   2.022864  \n",
              "61    20.949170  27.0  363.000000  3.50   24.0  38.896  219.934211  10.642224  \n",
              "227   13.689636  76.0   81.000000  3.00   32.0  48.620  279.917763   2.104951  \n",
              "307   56.369091  82.0  196.000000  9.00   56.0  14.586  199.975329   6.026151  \n",
              "..          ...   ...         ...   ...    ...     ...         ...        ...  \n",
              "94   211.263300  33.0  231.000000  5.50  152.0  72.930  679.876645   3.851847  \n",
              "121   22.547636  31.0   22.000000  1.00    8.0   9.724   59.983553   1.235034  \n",
              "312    9.478060   9.0   32.600000  2.26   56.0  38.896  299.934211   0.818421  \n",
              "363  336.161100  33.0  169.300000  2.60  160.0  97.240  799.835526   2.602728  \n",
              "126    0.974380  10.0  161.000000  0.50   24.0  24.310  159.958882   5.534697  \n",
              "\n",
              "[770 rows x 16 columns]"
            ]
          },
          "execution_count": 33,
          "metadata": {},
          "output_type": "execute_result"
        }
      ],
      "source": [
        "X_train"
      ]
    },
    {
      "cell_type": "code",
      "execution_count": 34,
      "metadata": {
        "id": "C4UM9pZfbrQt"
      },
      "outputs": [],
      "source": [
        "scaler = StandardScaler()\n",
        "X_train_normalized = scaler.fit_transform(X_train)\n",
        "X_test_normalized = scaler.transform(X_test)"
      ]
    },
    {
      "cell_type": "code",
      "execution_count": 35,
      "metadata": {},
      "outputs": [
        {
          "data": {
            "text/plain": [
              "array([[ 0.93543991,  0.92089672, -0.54112079, ..., -0.79457172,\n",
              "        -0.56992202, -0.17737113],\n",
              "       [-0.78592387,  0.30329894, -0.84850992, ..., -0.42475131,\n",
              "        -0.72161892, -0.25945876],\n",
              "       [ 1.64073967,  1.11941029,  0.80830565, ..., -0.30147784,\n",
              "        -0.72165009,  2.85448457],\n",
              "       ...,\n",
              "       [-0.814298  ,  0.25918482, -0.66929849, ..., -0.30147784,\n",
              "        -0.4184433 , -0.69459178],\n",
              "       [ 0.21122406, -0.15989939,  1.17384948, ...,  1.1778038 ,\n",
              "         1.47622511, -0.04996957],\n",
              "       [-0.14142581,  2.31049171, -0.448548  , ..., -0.67129825,\n",
              "        -0.94896168,  1.00927221]])"
            ]
          },
          "execution_count": 35,
          "metadata": {},
          "output_type": "execute_result"
        }
      ],
      "source": [
        "X_train_normalized"
      ]
    },
    {
      "cell_type": "code",
      "execution_count": 36,
      "metadata": {},
      "outputs": [],
      "source": [
        "import pickle\n",
        "pickle.dump(scaler,open('scaler.pkl','wb'))"
      ]
    },
    {
      "cell_type": "markdown",
      "metadata": {},
      "source": [
        "Model training"
      ]
    },
    {
      "cell_type": "code",
      "execution_count": 37,
      "metadata": {
        "id": "lq9Ev_pTb2VT"
      },
      "outputs": [],
      "source": [
        "#pca\n",
        "pca = PCA(n_components=12)\n",
        "X_train_pca = pca.fit_transform(X_train_normalized)\n",
        "X_test_pca = pca.transform(X_test_normalized)"
      ]
    },
    {
      "cell_type": "code",
      "execution_count": 38,
      "metadata": {},
      "outputs": [],
      "source": [
        "import pickle\n",
        "pickle.dump(pca,open('pca.pkl','wb'))"
      ]
    },
    {
      "cell_type": "code",
      "execution_count": 39,
      "metadata": {
        "colab": {
          "base_uri": "https://localhost:8080/"
        },
        "id": "Cu48Eki3Lngu",
        "outputId": "25a30aa5-9f15-4417-cbb7-bb16b702c892"
      },
      "outputs": [
        {
          "data": {
            "text/plain": [
              "array([0.40768519, 0.16191433, 0.08454561, 0.07069858, 0.06148028,\n",
              "       0.05190906, 0.04107261, 0.04036688, 0.0319738 , 0.02288451,\n",
              "       0.0201434 , 0.00441416])"
            ]
          },
          "execution_count": 39,
          "metadata": {},
          "output_type": "execute_result"
        }
      ],
      "source": [
        "pca.explained_variance_ratio_"
      ]
    },
    {
      "cell_type": "code",
      "execution_count": 40,
      "metadata": {
        "colab": {
          "base_uri": "https://localhost:8080/"
        },
        "id": "NYM63Rk1LtsE",
        "outputId": "73c60809-b7d7-4fda-f9e1-29f7ed71276a"
      },
      "outputs": [
        {
          "data": {
            "text/plain": [
              "0.9990883993258772"
            ]
          },
          "execution_count": 40,
          "metadata": {},
          "output_type": "execute_result"
        }
      ],
      "source": [
        "sum(pca.explained_variance_ratio_)"
      ]
    },
    {
      "cell_type": "code",
      "execution_count": 41,
      "metadata": {
        "id": "_lIs5vG5MSr7"
      },
      "outputs": [],
      "source": [
        "encoder = LabelEncoder()\n",
        "y_train_encoded = encoder.fit_transform(y_train)\n",
        "y_test_encoded = encoder.transform(y_test)"
      ]
    },
    {
      "cell_type": "code",
      "execution_count": 42,
      "metadata": {},
      "outputs": [],
      "source": [
        "import pickle\n",
        "pickle.dump(encoder,open('encoder.pkl','wb'))"
      ]
    },
    {
      "cell_type": "code",
      "execution_count": 43,
      "metadata": {
        "colab": {
          "base_uri": "https://localhost:8080/"
        },
        "id": "I5s1WLa5MEJd",
        "outputId": "ce2e4aee-3c69-4f8f-b4c2-73f6ffbe80f6"
      },
      "outputs": [
        {
          "name": "stdout",
          "output_type": "stream",
          "text": [
            "\n",
            "Final Model - Test Accuracy: 0.9152\n"
          ]
        }
      ],
      "source": [
        "#best model = XGBoost\n",
        "\n",
        "best_model = xgb.XGBClassifier(n_estimators=1000, max_depth=5, learning_rate=0.1, subsample=0.8, colsample_bytree=0.8)  # Replace with the selected best model\n",
        "best_model.fit(X_train_pca, y_train_encoded)\n",
        "\n",
        "#Evaluate the final model on the test set\n",
        "\n",
        "y_test_pred = best_model.predict(X_test_pca)\n",
        "test_accuracy = accuracy_score(y_test_encoded, y_test_pred)\n",
        "print(f\"\\nFinal Model - Test Accuracy: {test_accuracy:.4f}\")"
      ]
    },
    {
      "cell_type": "code",
      "execution_count": 44,
      "metadata": {},
      "outputs": [
        {
          "data": {
            "text/plain": [
              "array([1, 2, 1, 2, 2, 1, 2, 2, 2, 2, 6, 2, 1, 1, 2, 2, 2, 2, 2, 2, 5, 5,\n",
              "       5, 2, 2, 1, 2, 1, 2, 2, 5, 1, 5, 4, 1, 2, 2, 2, 2, 2, 2, 1, 2, 5,\n",
              "       2, 1, 2, 2, 2, 2, 2, 2, 1, 2, 2, 2, 1, 2, 1, 5, 5, 2, 2, 5, 2, 2,\n",
              "       2, 5, 2, 2, 2, 2, 2, 2, 2, 2, 2, 5, 2, 2, 1, 5, 1, 2, 2, 2, 1, 2,\n",
              "       2, 2, 2, 2, 2, 1, 2, 5, 2, 1, 1, 1, 3, 2, 2, 2, 2, 2, 1, 2, 2, 1,\n",
              "       2, 1, 1, 2, 1, 2, 5, 5, 1, 2, 2, 2, 2, 1, 2, 2, 2, 2, 1, 2, 6, 2,\n",
              "       1, 5, 5, 1, 1, 2, 7, 5, 2, 2, 2, 5, 2, 2, 5, 2, 2, 2, 2, 2, 1, 2,\n",
              "       2, 2, 2, 2, 5, 1, 2, 2, 1, 2, 1, 1, 1, 2, 2, 2, 1, 2, 1, 1, 1, 1,\n",
              "       1, 2, 1, 6, 2, 2, 2, 2, 1, 2, 2, 1, 2, 5, 2, 2, 2, 2, 2, 2, 2, 2,\n",
              "       2, 6, 2, 5, 2, 2, 2, 1, 2, 2, 2, 2, 1, 2, 2, 2, 5, 2, 2, 2, 2, 2,\n",
              "       2, 5, 2, 1, 5, 2, 2, 1, 1, 2, 2, 2, 5, 2, 1, 2, 2, 2, 2, 2, 2, 2,\n",
              "       2, 2, 2, 5, 2, 1, 6, 1, 2, 2, 2, 2, 2, 2, 2, 2, 2, 2, 2, 1, 2, 2,\n",
              "       2, 2, 1, 2, 2, 2, 2, 2, 1, 1, 2, 2, 3, 5, 2, 2, 2, 1, 2, 5, 2, 5,\n",
              "       1, 5, 2, 1, 1, 2, 2, 2, 5, 2, 2, 2, 2, 2, 2, 2, 8, 2, 1, 2, 2, 2,\n",
              "       2, 2, 2, 2, 2, 1, 2, 2, 2, 2, 2, 2, 2, 1, 2, 2, 2, 1, 2, 3, 2, 1],\n",
              "      dtype=int64)"
            ]
          },
          "execution_count": 44,
          "metadata": {},
          "output_type": "execute_result"
        }
      ],
      "source": [
        "y_test_pred"
      ]
    },
    {
      "cell_type": "code",
      "execution_count": 45,
      "metadata": {},
      "outputs": [
        {
          "data": {
            "text/plain": [
              "{'objective': 'multi:softprob',\n",
              " 'use_label_encoder': False,\n",
              " 'base_score': 0.5,\n",
              " 'booster': 'gbtree',\n",
              " 'callbacks': None,\n",
              " 'colsample_bylevel': 1,\n",
              " 'colsample_bynode': 1,\n",
              " 'colsample_bytree': 0.8,\n",
              " 'early_stopping_rounds': None,\n",
              " 'enable_categorical': False,\n",
              " 'eval_metric': None,\n",
              " 'gamma': 0,\n",
              " 'gpu_id': -1,\n",
              " 'grow_policy': 'depthwise',\n",
              " 'importance_type': None,\n",
              " 'interaction_constraints': '',\n",
              " 'learning_rate': 0.1,\n",
              " 'max_bin': 256,\n",
              " 'max_cat_to_onehot': 4,\n",
              " 'max_delta_step': 0,\n",
              " 'max_depth': 5,\n",
              " 'max_leaves': 0,\n",
              " 'min_child_weight': 1,\n",
              " 'missing': nan,\n",
              " 'monotone_constraints': '()',\n",
              " 'n_estimators': 1000,\n",
              " 'n_jobs': 0,\n",
              " 'num_parallel_tree': 1,\n",
              " 'predictor': 'auto',\n",
              " 'random_state': 0,\n",
              " 'reg_alpha': 0,\n",
              " 'reg_lambda': 1,\n",
              " 'sampling_method': 'uniform',\n",
              " 'scale_pos_weight': None,\n",
              " 'subsample': 0.8,\n",
              " 'tree_method': 'exact',\n",
              " 'validate_parameters': 1,\n",
              " 'verbosity': None}"
            ]
          },
          "execution_count": 45,
          "metadata": {},
          "output_type": "execute_result"
        }
      ],
      "source": [
        "best_model.get_params()"
      ]
    },
    {
      "cell_type": "code",
      "execution_count": 46,
      "metadata": {},
      "outputs": [],
      "source": [
        "reg_pred=best_model.predict(X_test_pca)"
      ]
    },
    {
      "cell_type": "code",
      "execution_count": 47,
      "metadata": {
        "id": "mlsEqgKOT6Ux"
      },
      "outputs": [],
      "source": [
        "import pickle\n",
        "with open('WaterQualityClassification.pkl', 'wb') as file:\n",
        "    pickle.dump(best_model, file)"
      ]
    },
    {
      "cell_type": "code",
      "execution_count": 48,
      "metadata": {
        "colab": {
          "base_uri": "https://localhost:8080/"
        },
        "id": "swEoe0pWUKTv",
        "outputId": "4727b669-8e7e-4915-bc17-0812a74dce67"
      },
      "outputs": [
        {
          "name": "stdout",
          "output_type": "stream",
          "text": [
            "Class Label: C1S1 - Encoded Value: 0\n",
            "Class Label: C2S1 - Encoded Value: 1\n",
            "Class Label: C3S1 - Encoded Value: 2\n",
            "Class Label: C3S2 - Encoded Value: 3\n",
            "Class Label: C3S3 - Encoded Value: 4\n",
            "Class Label: C4S1 - Encoded Value: 5\n",
            "Class Label: C4S2 - Encoded Value: 6\n",
            "Class Label: C4S3 - Encoded Value: 7\n",
            "Class Label: C4S4 - Encoded Value: 8\n"
          ]
        }
      ],
      "source": [
        "encoded_classes = encoder.classes_\n",
        "\n",
        "for i, class_label in enumerate(encoded_classes):\n",
        "    print(f\"Class Label: {class_label} - Encoded Value: {i}\")"
      ]
    },
    {
      "cell_type": "code",
      "execution_count": 49,
      "metadata": {
        "id": "hgmM-hQ2VBJ3"
      },
      "outputs": [],
      "source": [
        "def prediction(data):\n",
        "    with open('WaterQualityClassification.pkl', 'rb') as file:\n",
        "        loaded_model = pickle.load(file)\n",
        "\n",
        "    new_data=np.array(data)\n",
        "    new_data_normalised=scaler.transform(new_data.reshape(1,-1))\n",
        "    new_data_pca=pca.transform(new_data_normalised)\n",
        "    predicted_class = loaded_model.predict(new_data_pca)\n",
        "\n",
        "    encoded_class=predicted_class\n",
        "    original_class=encoder.inverse_transform(encoded_class)\n",
        "    Class_Description={'C1S1':\"Low salinity and low sodium waters are good for irrigation and can be used with most crops with no restriction on use on most of the soils. \",\n",
        "                   'C2S1':\"Medium salinity and low sodium waters are good for irrigation and can be used on all most all soils with little danger of development of harmful levels of exchangeable sodium if a moderate amount of leaching occurs. Crops can be grown without any special consideration for salinity control. \",\n",
        "                   'C3S1':\"The high salinity and low sodium waters require good drainage. Crops with good salt tolerance should be selected.\",\n",
        "                  'C3S2':\"The high salinity and medium sodium waters require good drainage and can be used on coarse - textured or organic soils having good permeability. \",\n",
        "                  'C3S3':\"These high salinity and high sodium waters require special soil management, good drainage, high leaching and organic matter additions. Gypsum amendments make feasible the use of these waters. \",\n",
        "                  'C4S1':\"Very high salinity and low sodium waters are not suitable for irrigation unless the soil must be permeable and drainage must be adequate. Irrigation waters must be applied in excess to provide considerable leaching. Salt tolerant crops must be selected. \",\n",
        "                  'C4S2':\"Very high salinity and medium sodium waters are not suitable for irrigation on fine textured soils and low leaching conditions and can be used for irrigation on coarse textured or organic soils having good permeability. \",\n",
        "                  'C4S3':\"Very high salinity and high sodium waters produce harmful levels of exchangeable sodium in most soils and will require special soil management, good drainage, high leaching, and organic matter additions. The Gypsum amendment makes feasible the use of these waters. \",\n",
        "                       'C4S4':\"Very high salinity and very high sodium waters are generally unsuitable for irrigation purposes. These are sodium chloride types of water and can cause sodium hazards. It can be used on coarse-textured soils with very good drainage for very high salt tolerant crops. Gypsum amendments make feasible the use of these waters. \"\n",
        "                  }\n",
        "\n",
        "    if original_class[0] in Class_Description:\n",
        "        print(original_class[0]+\" \"+Class_Description[original_class[0]])"
      ]
    },
    {
      "cell_type": "code",
      "execution_count": 50,
      "metadata": {
        "colab": {
          "base_uri": "https://localhost:8080/"
        },
        "id": "70U6h0k1WEwT",
        "outputId": "4af8e414-8cb7-427d-ec5f-2bc702896c56"
      },
      "outputs": [
        {
          "name": "stdout",
          "output_type": "stream",
          "text": [
            "C2S1 Medium salinity and low sodium waters are good for irrigation and can be used on all most all soils with little danger of development of harmful levels of exchangeable sodium if a moderate amount of leaching occurs. Crops can be grown without any special consideration for salinity control. \n"
          ]
        }
      ],
      "source": [
        "test_data=[5.66,8.02,420,275.3,0.0,153.3,12,0.55,11.200,37,25,1.0,33.0,20.5,160.3,0.938]\n",
        "prediction(test_data)"
      ]
    },
    {
      "cell_type": "code",
      "execution_count": 51,
      "metadata": {
        "colab": {
          "base_uri": "https://localhost:8080/"
        },
        "id": "fgOmU7wqScFu",
        "outputId": "fd5d88d2-1da4-48e4-9361-7387ea19ba63"
      },
      "outputs": [
        {
          "name": "stdout",
          "output_type": "stream",
          "text": [
            "Accuracy Score of Logistic Regression is : 0.9151515151515152\n",
            "Confusion Matrix : \n",
            "[[ 64   3   0   0   0   0   0   0]\n",
            " [  4 211   1   0   3   0   0   0]\n",
            " [  0   2   1   0   0   0   0   0]\n",
            " [  0   0   0   0   0   0   0   0]\n",
            " [  0   1   1   0  24   2   0   0]\n",
            " [  0   1   0   0   6   1   1   0]\n",
            " [  0   0   0   1   0   2   0   0]\n",
            " [  0   0   0   0   0   0   0   1]]\n",
            "Classification Report : \n",
            "              precision    recall  f1-score   support\n",
            "\n",
            "           1       0.94      0.96      0.95        67\n",
            "           2       0.97      0.96      0.97       219\n",
            "           3       0.33      0.33      0.33         3\n",
            "           4       0.00      0.00      0.00         0\n",
            "           5       0.73      0.86      0.79        28\n",
            "           6       0.20      0.11      0.14         9\n",
            "           7       0.00      0.00      0.00         3\n",
            "           8       1.00      1.00      1.00         1\n",
            "\n",
            "    accuracy                           0.92       330\n",
            "   macro avg       0.52      0.53      0.52       330\n",
            "weighted avg       0.91      0.92      0.91       330\n",
            "\n"
          ]
        }
      ],
      "source": [
        "acc_lr = accuracy_score(y_test_encoded, y_test_pred)\n",
        "conf = confusion_matrix(y_test_encoded, y_test_pred)\n",
        "clf_report = classification_report(y_test_encoded, y_test_pred)\n",
        "print(f\"Accuracy Score of Logistic Regression is : {acc_lr}\")\n",
        "print(f\"Confusion Matrix : \\n{conf}\")\n",
        "print(f\"Classification Report : \\n{clf_report}\")"
      ]
    },
    {
      "cell_type": "code",
      "execution_count": null,
      "metadata": {
        "id": "2LE7WRSVuN23"
      },
      "outputs": [],
      "source": []
    }
  ],
  "metadata": {
    "colab": {
      "provenance": []
    },
    "kernelspec": {
      "display_name": "Python 3",
      "name": "python3"
    },
    "language_info": {
      "codemirror_mode": {
        "name": "ipython",
        "version": 3
      },
      "file_extension": ".py",
      "mimetype": "text/x-python",
      "name": "python",
      "nbconvert_exporter": "python",
      "pygments_lexer": "ipython3",
      "version": "3.7.0"
    }
  },
  "nbformat": 4,
  "nbformat_minor": 0
}
